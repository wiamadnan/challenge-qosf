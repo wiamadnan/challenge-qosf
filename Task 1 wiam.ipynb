{
 "cells": [
  {
   "cell_type": "code",
   "execution_count": 1,
   "metadata": {},
   "outputs": [],
   "source": [
    "# Initialization\n",
    "import matplotlib.pyplot as plt\n",
    "import numpy as np\n",
    "\n",
    "# Importing Qiskit\n",
    "from qiskit import IBMQ, Aer, assemble, transpile\n",
    "from qiskit import QuantumCircuit, ClassicalRegister, QuantumRegister\n",
    "from qiskit.providers.ibmq import least_busy\n",
    "\n",
    "# Import basic plot tools\n",
    "from qiskit.visualization import plot_histogram"
   ]
  },
  {
   "cell_type": "code",
   "execution_count": 2,
   "metadata": {},
   "outputs": [],
   "source": [
    "l = [1,5,7,10]"
   ]
  },
  {
   "cell_type": "code",
   "execution_count": 3,
   "metadata": {},
   "outputs": [
    {
     "name": "stdout",
     "output_type": "stream",
     "text": [
      "['0001', '0101', '0111', '1010']\n"
     ]
    }
   ],
   "source": [
    "# Writing the integrers in binary representation\n",
    "\n",
    "def int_to_bit(l):\n",
    "    p = []\n",
    "    for i in l:\n",
    "        p.append(bin(i)[2:].zfill(4))\n",
    "    return p\n",
    "\n",
    "list_bit = int_to_bit(l)\n",
    "\n",
    "print(list_bit)  \n",
    "\n",
    "N = len(list_bit)"
   ]
  },
  {
   "cell_type": "code",
   "execution_count": 4,
   "metadata": {},
   "outputs": [
    {
     "name": "stdout",
     "output_type": "stream",
     "text": [
      "[1, 3]\n"
     ]
    }
   ],
   "source": [
    "# Finding integers whose binary representation is such that two adjacent bits are different\n",
    "\n",
    "def ind_sol(l, N):\n",
    "    p = []\n",
    "    for i in range (len(l)):\n",
    "        s = 0\n",
    "        for k in range (len(l[0])-1):\n",
    "            if l[i][k] != l[i][k+1]: \n",
    "                s+=1\n",
    "        if s == N-1:\n",
    "            p.append(i)\n",
    "    return p\n",
    "\n",
    "list_ind_sol = ind_sol(list_bit, N)\n",
    "\n",
    "print(list_ind_sol)"
   ]
  },
  {
   "cell_type": "code",
   "execution_count": 5,
   "metadata": {},
   "outputs": [
    {
     "name": "stdout",
     "output_type": "stream",
     "text": [
      "['00', '01', '10', '11']\n"
     ]
    }
   ],
   "source": [
    "# Writing the indices of the integrers in binary representation\n",
    "\n",
    "list_ind = [i for i in range(N)]\n",
    "\n",
    "def ind_to_bit(l):\n",
    "    p = []\n",
    "    for i in l:\n",
    "        p.append(bin(i)[2:].zfill(2))\n",
    "    return p\n",
    "\n",
    "list_ind_bit = ind_to_bit(list_ind)\n",
    "\n",
    "print(list_ind_bit)"
   ]
  },
  {
   "cell_type": "markdown",
   "metadata": {},
   "source": [
    "We apply Grover's algorithm to create a quantum state which is a superposition of indices of the target solution :\n",
    "\n"
   ]
  },
  {
   "cell_type": "code",
   "execution_count": 6,
   "metadata": {},
   "outputs": [],
   "source": [
    "# Initialising by applying a H-gate to 'qubits' in qc\n",
    "\n",
    "def initialize_s(qc, qubits):\n",
    "    for q in qubits:\n",
    "        qc.h(q)\n",
    "    return qc"
   ]
  },
  {
   "cell_type": "code",
   "execution_count": 7,
   "metadata": {},
   "outputs": [],
   "source": [
    "# Creating a phase oracle\n",
    "\n",
    "def oracle(nqubits):\n",
    "    qc = QuantumCircuit(nqubits)\n",
    "    qc.z(0)\n",
    "    O = qc.to_gate()\n",
    "    O.name = \"U$_\\omega$\"\n",
    "    return O"
   ]
  },
  {
   "cell_type": "code",
   "execution_count": 8,
   "metadata": {},
   "outputs": [],
   "source": [
    "# Diffusion operator (U_s)\n",
    "\n",
    "def diffuser2(nqubits):\n",
    "    qc = QuantumCircuit(nqubits)\n",
    "    qc.h([0,1])\n",
    "    qc.z([0,1])\n",
    "    qc.cz(0,1)\n",
    "    qc.h([0,1])\n",
    "    U_s = qc.to_gate()\n",
    "    U_s.name = \"U$_s$\"\n",
    "    return U_s"
   ]
  },
  {
   "cell_type": "code",
   "execution_count": 9,
   "metadata": {},
   "outputs": [
    {
     "data": {
      "image/png": "[encoded data removed]",
      "text/plain": [
       "<Figure size 478.079x204.68 with 1 Axes>"
      ]
     },
     "execution_count": 9,
     "metadata": {},
     "output_type": "execute_result"
    }
   ],
   "source": [
    "# Grover's algorithm first implementation\n",
    "\n",
    "n = 2\n",
    "grover_circuit = QuantumCircuit(n)\n",
    "grover_circuit = initialize_s(grover_circuit, [0,1])\n",
    "grover_circuit.append(oracle(n), [0,1])\n",
    "grover_circuit.append(diffuser2(n), [0,1])\n",
    "grover_circuit.measure_all()\n",
    "grover_circuit.draw('mpl')"
   ]
  },
  {
   "cell_type": "code",
   "execution_count": 10,
   "metadata": {},
   "outputs": [
    {
     "data": {
      "image/png": "[encoded data removed]",
      "text/plain": [
       "<Figure size 568.052x144.48 with 1 Axes>"
      ]
     },
     "execution_count": 10,
     "metadata": {},
     "output_type": "execute_result"
    }
   ],
   "source": [
    "# Grover's algorithm second implementation\n",
    "\n",
    "n = 2\n",
    "grover_circuit = QuantumCircuit(n)\n",
    "grover_circuit = initialize_s(grover_circuit, [0,1])\n",
    "grover_circuit.z(0)\n",
    "\n",
    "grover_circuit.barrier()\n",
    "\n",
    "grover_circuit.h([0,1])\n",
    "grover_circuit.x([0,1])\n",
    "grover_circuit.cz(0,1)\n",
    "grover_circuit.x([0,1])\n",
    "grover_circuit.h([0,1])\n",
    "\n",
    "grover_circuit.draw('mpl')"
   ]
  },
  {
   "cell_type": "code",
   "execution_count": 11,
   "metadata": {},
   "outputs": [
    {
     "name": "stdout",
     "output_type": "stream",
     "text": [
      "[ 0.5-1.2246468e-16j -0.5+6.1232340e-17j  0.5-1.8369702e-16j\n",
      " -0.5+1.2246468e-16j]\n"
     ]
    }
   ],
   "source": [
    "sim = Aer.get_backend('aer_simulator')\n",
    "# Make a copy of the circuit with the 'save_statevector'\n",
    "# instruction to run on the Aer simulator\n",
    "grover_circuit_sim = grover_circuit.copy()\n",
    "grover_circuit_sim.save_statevector()\n",
    "qobj = assemble(grover_circuit_sim)\n",
    "result = sim.run(qobj).result()\n",
    "statevec = result.get_statevector()\n",
    "\n",
    "print(statevec)"
   ]
  },
  {
   "cell_type": "code",
   "execution_count": 12,
   "metadata": {},
   "outputs": [
    {
     "data": {
      "image/png": "[encoded data removed]",
      "text/plain": [
       "<Figure size 504x360 with 1 Axes>"
      ]
     },
     "execution_count": 12,
     "metadata": {},
     "output_type": "execute_result"
    }
   ],
   "source": [
    "grover_circuit.measure_all()\n",
    "\n",
    "aer_sim = Aer.get_backend('aer_simulator')\n",
    "qobj = assemble(grover_circuit)\n",
    "result = aer_sim.run(qobj).result()\n",
    "counts = result.get_counts()\n",
    "plot_histogram(counts)\n"
   ]
  },
  {
   "cell_type": "code",
   "execution_count": null,
   "metadata": {},
   "outputs": [],
   "source": []
  }
 ],
 "metadata": {
  "kernelspec": {
   "display_name": "Python 3",
   "language": "python",
   "name": "python3"
  },
  "language_info": {
   "codemirror_mode": {
    "name": "ipython",
    "version": 3
   },
   "file_extension": ".py",
   "mimetype": "text/x-python",
   "name": "python",
   "nbconvert_exporter": "python",
   "pygments_lexer": "ipython3",
   "version": "3.8.5"
  }
 },
 "nbformat": 4,
 "nbformat_minor": 4
}
